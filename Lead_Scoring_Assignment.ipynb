{
 "cells": [
  {
   "cell_type": "markdown",
   "metadata": {},
   "source": [
    "# Lead Scoring Assignment\n",
    "\n",
    "#### Done By : Shiva Chandra Kante, Krishnakumar V, Kamatchi M\n",
    "\n",
    "#### Problem Statement:\n",
    "An education company named X Education sells online courses to industry professionals. On any given day, many professionals who are interested in the courses land on their website and browse for courses. \n",
    "\n",
    "The company markets its courses on several websites and search engines like Google. Once these people land on the website, they might browse the courses or fill up a form for the course or watch some videos. When these people fill up a form providing their email address or phone number, they are classified to be a lead. Moreover, the company also gets leads through past referrals. Once these leads are acquired, employees from the sales team start making calls, writing emails, etc. Through this process, some of the leads get converted while most do not. The typical lead conversion rate at X education is around 30%. \n",
    "\n",
    "#### Business Goal:\n",
    "There are quite a few goals for this case study:\n",
    "\n",
    "Build a logistic regression model to assign a lead score between 0 and 100 to each of the leads which can be used by the company to target potential leads. A higher score would mean that the lead is hot, i.e. is most likely to convert whereas a lower score would mean that the lead is cold and will mostly not get converted.\n",
    "There are some more problems presented by the company which your model should be able to adjust to if the company's requirement changes in the future so you will need to handle these as well. These problems are provided in a separate doc file. Please fill it based on the logistic regression model you got in the first step. Also, make sure you include this in your final PPT where you'll make recommendations.\n",
    "\n",
    "\n"
   ]
  },
  {
   "cell_type": "markdown",
   "metadata": {},
   "source": [
    "## Step 1: Reading and Understanding the Data\n",
    "\n",
    "Let us first import NumPy and Pandas and read the Lead Scoring dataset"
   ]
  },
  {
   "cell_type": "code",
   "execution_count": 1,
   "metadata": {},
   "outputs": [],
   "source": [
    "# Supress Warnings\n",
    "import warnings\n",
    "warnings.filterwarnings('ignore')"
   ]
  },
  {
   "cell_type": "code",
   "execution_count": 2,
   "metadata": {},
   "outputs": [],
   "source": [
    "# Import necessary libraries\n",
    "import numpy as np\n",
    "import pandas as pd\n",
    "import matplotlib.pyplot as plt\n",
    "import seaborn as sns\n",
    "\n",
    "from sklearn.model_selection import train_test_split\n",
    "from sklearn.preprocessing import MinMaxScaler\n",
    "from sklearn.feature_selection import RFE\n",
    "from sklearn.linear_model import LinearRegression\n",
    "from statsmodels.stats.outliers_influence import variance_inflation_factor\n",
    "import statsmodels.api as sm\n",
    "from sklearn.metrics import r2_score"
   ]
  },
  {
   "cell_type": "code",
   "execution_count": 3,
   "metadata": {},
   "outputs": [],
   "source": [
    "## setting the pandas column & row view to maximum\n",
    "pd.set_option('display.max_rows', 500)\n",
    "pd.set_option('display.max_columns', 500)"
   ]
  },
  {
   "cell_type": "code",
   "execution_count": 4,
   "metadata": {},
   "outputs": [],
   "source": [
    "lead_score = pd.read_csv(\"Leads.csv\")"
   ]
  },
  {
   "cell_type": "code",
   "execution_count": null,
   "metadata": {},
   "outputs": [],
   "source": [
    "# Check the head of the dataset\n",
    "lead_score.head()"
   ]
  },
  {
   "cell_type": "code",
   "execution_count": null,
   "metadata": {},
   "outputs": [],
   "source": [
    "lead_score.shape"
   ]
  },
  {
   "cell_type": "code",
   "execution_count": null,
   "metadata": {},
   "outputs": [],
   "source": [
    "lead_score.info()"
   ]
  },
  {
   "cell_type": "markdown",
   "metadata": {},
   "source": [
    "##### <b>*OBSERVATION*<b>:\n",
    "- In many columns we are seeing select as values."
   ]
  },
  {
   "cell_type": "markdown",
   "metadata": {},
   "source": [
    "### Data Cleaning"
   ]
  },
  {
   "cell_type": "code",
   "execution_count": 8,
   "metadata": {},
   "outputs": [],
   "source": [
    "# We are replacing Select with Nan\n",
    "lead_score = lead_score.replace('Select',np.nan)"
   ]
  },
  {
   "cell_type": "code",
   "execution_count": null,
   "metadata": {},
   "outputs": [],
   "source": [
    "# Checking for duplicate rows in the dataframe.\n",
    "duplicate_row_count = lead_score.duplicated().sum()\n",
    "print(f\" Duplicate Row Count in Lead scoring Dataframe :- {duplicate_row_count}\")"
   ]
  },
  {
   "cell_type": "code",
   "execution_count": null,
   "metadata": {},
   "outputs": [],
   "source": [
    "## understanding percentage of null values of each column\n",
    "(lead_score.isnull().sum() * 100/lead_score.shape[0]).round(2).sort_values(ascending=False)"
   ]
  },
  {
   "cell_type": "code",
   "execution_count": null,
   "metadata": {},
   "outputs": [],
   "source": [
    "columns_to_drop = []\n",
    "for column in lead_score.columns:\n",
    "    if (lead_score[column].isnull().sum() * 100/lead_score.shape[0]).round(2) > 40:\n",
    "        columns_to_drop.append(column)\n",
    "columns_to_drop"
   ]
  },
  {
   "cell_type": "code",
   "execution_count": null,
   "metadata": {},
   "outputs": [],
   "source": [
    "# Checking if there are columns with one unique value since it won't affect our analysis\n",
    "lead_score.nunique()"
   ]
  },
  {
   "cell_type": "markdown",
   "metadata": {},
   "source": [
    "##### <b>*OBSERVATION*<b>:\n",
    "- Some columns contain only a single value across all rows, so it's better to drop those columns."
   ]
  },
  {
   "cell_type": "code",
   "execution_count": 13,
   "metadata": {},
   "outputs": [],
   "source": [
    "# Dropping columns with only one value for all the rows\n",
    "columns_to_drop.extend(['Magazine','Receive More Updates About Our Courses','Update me on Supply Chain Content',\n",
    "                            'Get updates on DM Content','I agree to pay the amount through cheque'])"
   ]
  },
  {
   "cell_type": "code",
   "execution_count": null,
   "metadata": {},
   "outputs": [],
   "source": [
    "columns_to_drop"
   ]
  },
  {
   "cell_type": "code",
   "execution_count": 15,
   "metadata": {},
   "outputs": [],
   "source": [
    "lead_score.drop(columns_to_drop, axis = 1, inplace = True)"
   ]
  },
  {
   "cell_type": "code",
   "execution_count": null,
   "metadata": {},
   "outputs": [],
   "source": [
    "## understanding percentage of null values of each column\n",
    "(lead_score.isnull().sum() * 100/lead_score.shape[0]).round(2).sort_values(ascending=False)"
   ]
  },
  {
   "cell_type": "code",
   "execution_count": null,
   "metadata": {},
   "outputs": [],
   "source": [
    "lead_score['Country'].value_counts(dropna=False)"
   ]
  },
  {
   "cell_type": "code",
   "execution_count": null,
   "metadata": {},
   "outputs": [],
   "source": [
    "def replace_country(x):\n",
    "    category = \"\"\n",
    "    if x == \"India\":\n",
    "        category = \"India\"\n",
    "    elif x is np.nan:\n",
    "        category = \"Not Provided\"\n",
    "    else:\n",
    "        category = \"Outside India\"\n",
    "    return category\n",
    "\n",
    "lead_score['Country'] = lead_score.apply(lambda x:replace_country(x['Country']), axis = 1)\n",
    "lead_score['Country'].value_counts()"
   ]
  },
  {
   "cell_type": "code",
   "execution_count": null,
   "metadata": {},
   "outputs": [],
   "source": [
    "lead_score['What matters most to you in choosing a course'].value_counts(dropna=False)"
   ]
  },
  {
   "cell_type": "markdown",
   "metadata": {},
   "source": [
    "##### <b>*OBSERVATION*<b>:\n",
    "- Apart from the null values, `What matters most to you in choosing a course'` is a highly skewed column. So we can drop the column."
   ]
  },
  {
   "cell_type": "code",
   "execution_count": 20,
   "metadata": {},
   "outputs": [],
   "source": [
    "lead_score.drop('What matters most to you in choosing a course', axis = 1, inplace = True)"
   ]
  },
  {
   "cell_type": "code",
   "execution_count": null,
   "metadata": {},
   "outputs": [],
   "source": [
    "lead_score['What is your current occupation'].value_counts(dropna=False)"
   ]
  },
  {
   "cell_type": "code",
   "execution_count": null,
   "metadata": {},
   "outputs": [],
   "source": [
    "lead_score['What is your current occupation'] = lead_score['What is your current occupation'].fillna(\"Not Provided\")\n",
    "lead_score['What is your current occupation'].value_counts(dropna=False)"
   ]
  },
  {
   "cell_type": "code",
   "execution_count": null,
   "metadata": {},
   "outputs": [],
   "source": [
    "lead_score['Specialization'].value_counts(dropna=False)"
   ]
  },
  {
   "cell_type": "markdown",
   "metadata": {},
   "source": [
    "- Filling null values in `Specialization` Column with Not Provided value. Insttead of dropping it."
   ]
  },
  {
   "cell_type": "code",
   "execution_count": null,
   "metadata": {},
   "outputs": [],
   "source": [
    "lead_score['Specialization'] = lead_score['Specialization'].fillna(\"Not Provided\")\n",
    "lead_score['Specialization'].value_counts(dropna=False)"
   ]
  },
  {
   "cell_type": "code",
   "execution_count": null,
   "metadata": {},
   "outputs": [],
   "source": [
    "lead_score['City'].value_counts(dropna=False)"
   ]
  },
  {
   "cell_type": "markdown",
   "metadata": {},
   "source": [
    "##### <b>*OBSERVATION*<b>:\n",
    "- The `City` column has 39.71% missing values. Imputing them with \"Mumbai\" would increase data skewness, potentially biasing the model. Therefore, it's best to drop the `City` column.\n"
   ]
  },
  {
   "cell_type": "code",
   "execution_count": 26,
   "metadata": {},
   "outputs": [],
   "source": [
    "lead_score.drop('City', axis = 1, inplace = True)"
   ]
  },
  {
   "cell_type": "code",
   "execution_count": null,
   "metadata": {},
   "outputs": [],
   "source": [
    "lead_score['Tags'].value_counts(dropna=False)"
   ]
  },
  {
   "cell_type": "markdown",
   "metadata": {},
   "source": [
    "##### <b>*OBSERVATION*<b>:\n",
    "- The `Tags` column has 36.29% missing values. Since tags indicate the current status of a lead, they are not useful for modeling. Therefore, this column can be dropped.\n",
    "\n"
   ]
  },
  {
   "cell_type": "code",
   "execution_count": 28,
   "metadata": {},
   "outputs": [],
   "source": [
    "lead_score.drop('Tags', axis = 1, inplace = True)"
   ]
  },
  {
   "cell_type": "code",
   "execution_count": null,
   "metadata": {},
   "outputs": [],
   "source": [
    "## understanding percentage of null values of each column\n",
    "(lead_score.isnull().sum() * 100/lead_score.shape[0]).round(2).sort_values(ascending=False)"
   ]
  },
  {
   "cell_type": "code",
   "execution_count": null,
   "metadata": {},
   "outputs": [],
   "source": [
    "lead_score['TotalVisits'].value_counts(dropna=False).head(10)"
   ]
  },
  {
   "cell_type": "code",
   "execution_count": 31,
   "metadata": {},
   "outputs": [],
   "source": [
    "# TotalVisits missing values to be imputed with mode\n",
    "lead_score['TotalVisits'].fillna(lead_score['TotalVisits'].mode()[0], inplace=True)"
   ]
  },
  {
   "cell_type": "code",
   "execution_count": null,
   "metadata": {},
   "outputs": [],
   "source": [
    "lead_score['Page Views Per Visit'].value_counts(dropna=False).head(10)"
   ]
  },
  {
   "cell_type": "code",
   "execution_count": 33,
   "metadata": {},
   "outputs": [],
   "source": [
    "# Page Views Per Visit missing values to be imputed with mode\n",
    "lead_score['Page Views Per Visit'].fillna(lead_score['Page Views Per Visit'].mode()[0], inplace=True)"
   ]
  },
  {
   "cell_type": "code",
   "execution_count": null,
   "metadata": {},
   "outputs": [],
   "source": [
    "lead_score['Last Activity'].value_counts(dropna=False).head(10)"
   ]
  },
  {
   "cell_type": "code",
   "execution_count": 35,
   "metadata": {},
   "outputs": [],
   "source": [
    "# Filling null values in Last Activity with Email Opened\n",
    "lead_score['Last Activity'].fillna('Email Opened', inplace=True)"
   ]
  },
  {
   "cell_type": "code",
   "execution_count": null,
   "metadata": {},
   "outputs": [],
   "source": [
    "lead_score['Lead Source'].value_counts(dropna=False).head(10)"
   ]
  },
  {
   "cell_type": "code",
   "execution_count": 37,
   "metadata": {},
   "outputs": [],
   "source": [
    "# Filling null values in Lead Source with Google\n",
    "lead_score['Lead Source'].fillna('Google', inplace=True)"
   ]
  },
  {
   "cell_type": "code",
   "execution_count": null,
   "metadata": {},
   "outputs": [],
   "source": [
    "## understanding percentage of null values of each column\n",
    "(lead_score.isnull().sum() * 100/lead_score.shape[0]).round(2).sort_values(ascending=False)"
   ]
  },
  {
   "cell_type": "code",
   "execution_count": null,
   "metadata": {},
   "outputs": [],
   "source": [
    "lead_score.nunique()"
   ]
  },
  {
   "cell_type": "markdown",
   "metadata": {},
   "source": [
    "##### <b>*OBSERVATION*<b>:\n",
    "- The `Lead Number` and `Prospect ID` columns contain unique values for each row and are used solely for lead tracking. Since they do not contribute to the model, they can be dropped."
   ]
  },
  {
   "cell_type": "code",
   "execution_count": 40,
   "metadata": {},
   "outputs": [],
   "source": [
    "lead_score.drop(['Prospect ID', 'Lead Number'], axis = 1, inplace = True)"
   ]
  },
  {
   "cell_type": "markdown",
   "metadata": {},
   "source": [
    "##### Checking for Skeweness in the Categorical Columns"
   ]
  },
  {
   "cell_type": "code",
   "execution_count": null,
   "metadata": {},
   "outputs": [],
   "source": [
    "categorical_cols = lead_score.select_dtypes(include=['category', 'object']).columns.tolist()\n",
    "categorical_cols"
   ]
  },
  {
   "cell_type": "code",
   "execution_count": 42,
   "metadata": {},
   "outputs": [],
   "source": [
    "# A plot function to analyze the categorical columns\n",
    "def plot_categorical_skweness_test(df,col):\n",
    "    category_counts = df[col].value_counts()\n",
    "    total = len(df)\n",
    "    # Calculate percentages\n",
    "    category_percentages = (category_counts / total) * 100\n",
    "    # Plot\n",
    "    plt.figure(figsize=(10, 5))\n",
    "    sns.barplot(x=category_counts.index, y=category_counts.values, color='salmon')\n",
    "    # Annotate with percentage values\n",
    "    for i, (count, percentage) in enumerate(zip(category_counts.values, category_percentages.values)):\n",
    "        if percentage <= 5:\n",
    "            palce = total*0.05\n",
    "        else :\n",
    "            palce = count / 2\n",
    "        plt.text(i, palce, f'{percentage:.1f}%',  ha='center',  va='center', fontsize=12,rotation=90)\n",
    "    # Labels and title\n",
    "    plt.xlabel(col)\n",
    "    plt.xticks(rotation=90)\n",
    "    plt.ylabel(\"Count\")\n",
    "    plt.title(f\"Count and Percentage of Each {col}\")\n",
    "    plt.show()"
   ]
  },
  {
   "cell_type": "code",
   "execution_count": null,
   "metadata": {},
   "outputs": [],
   "source": [
    "for col in categorical_cols:\n",
    "    centered_text = f\" ------------------ Categorical Skweness test FOR {col} ------------------ \".center(150)\n",
    "    print(centered_text)\n",
    "    plot_categorical_skweness_test(lead_score,col)"
   ]
  },
  {
   "cell_type": "markdown",
   "metadata": {},
   "source": [
    "##### <b>*OBSERVATION*<b>:\n",
    "- The following columns contain highly skewed data and will be dropped as they do not add value to the model. Moreover, skewed variables can negatively impact logistic regression performance by leading to biased or inaccurate parameter estimates.\n",
    "  - `Do Not Call`\n",
    "  -  `Search`\n",
    "  -  `Newspaper Article`\n",
    "  -  `X Education Forums`\n",
    "  - `Newspaper`\n",
    "  -  `Digital Advertisement`\n",
    "  -  `Through Recommendations`\n"
   ]
  },
  {
   "cell_type": "code",
   "execution_count": 44,
   "metadata": {},
   "outputs": [],
   "source": [
    "lead_score.drop(['Do Not Call',\n",
    " 'Search',\n",
    " 'Newspaper Article',\n",
    " 'X Education Forums',\n",
    " 'Newspaper',\n",
    " 'Digital Advertisement',\n",
    " 'Through Recommendations'], axis = 1, inplace = True)\n"
   ]
  },
  {
   "cell_type": "code",
   "execution_count": null,
   "metadata": {},
   "outputs": [],
   "source": [
    "lead_score['Lead Source'].value_counts(normalize=True)*100"
   ]
  },
  {
   "cell_type": "markdown",
   "metadata": {},
   "source": [
    "##### <b>*OBSERVATION*<b>:\n",
    "- In the column `Lead Source` we observe Google is present two times and Few other lead sources are very less in number so it is better to put in Others bucket."
   ]
  },
  {
   "cell_type": "code",
   "execution_count": 46,
   "metadata": {},
   "outputs": [],
   "source": [
    "# Changing google to Google\n",
    "lead_score['Lead Source'] = lead_score['Lead Source'].replace(\"google\",\"Google\")"
   ]
  },
  {
   "cell_type": "code",
   "execution_count": 47,
   "metadata": {},
   "outputs": [],
   "source": [
    "# Grouping low frequency value levels to Others\n",
    "lead_score['Lead Source'] = lead_score['Lead Source'].replace([\"bing\",\"Click2call\",\"Press_Release\",\n",
    "                                                           \"Social Media\",\"Live Chat\",\"youtubechannel\",\n",
    "                                                           \"testone\",\"Pay per Click Ads\",\"welearnblog_Home\",\n",
    "                                                           \"WeLearn\",\"blog\",\"NC_EDM\"],\"Others\")\n",
    "\n"
   ]
  },
  {
   "cell_type": "code",
   "execution_count": null,
   "metadata": {},
   "outputs": [],
   "source": [
    "lead_score['Lead Source'].value_counts(normalize=True)*100"
   ]
  },
  {
   "cell_type": "code",
   "execution_count": null,
   "metadata": {},
   "outputs": [],
   "source": [
    "lead_score['Last Activity'].value_counts(normalize=True)*100"
   ]
  },
  {
   "cell_type": "markdown",
   "metadata": {},
   "source": [
    "##### <b>*OBSERVATION*<b>:\n",
    "- The `Lead Activity` column contains many dummy variables with low percentages. To reduce the number of dummy variables while encoding, we can group low-frequency categories under \"Others\". This will help keep the dataset clean and prevent unnecessary columns.\n",
    "\n"
   ]
  },
  {
   "cell_type": "code",
   "execution_count": 50,
   "metadata": {},
   "outputs": [],
   "source": [
    "# Grouping low frequency value levels to Others\n",
    "lead_score['Last Activity'] = lead_score['Last Activity'].replace([\"Unreachable\",\"Unsubscribed\",\"Had a Phone Conversation\",\n",
    "                                                           \"Approached upfront\",\"View in browser link Clicked\",\n",
    "                                                           \"Email Received\",\"Email Marked Spam\",\n",
    "                                                           \"Visited Booth in Tradeshow\",\"Resubscribed to emails\"],\"Others\")\n"
   ]
  },
  {
   "cell_type": "code",
   "execution_count": null,
   "metadata": {},
   "outputs": [],
   "source": [
    "lead_score['Last Activity'].value_counts(normalize=True)*100"
   ]
  },
  {
   "cell_type": "code",
   "execution_count": null,
   "metadata": {},
   "outputs": [],
   "source": [
    "lead_score.head(10)"
   ]
  },
  {
   "cell_type": "code",
   "execution_count": 53,
   "metadata": {},
   "outputs": [],
   "source": [
    "# Renaming column name \"A free copy of Mastering The Interview\" to \"Free_copy\" \n",
    "lead_score.rename(columns={'A free copy of Mastering The Interview': 'Free_copy'}, inplace=True)"
   ]
  },
  {
   "cell_type": "code",
   "execution_count": 54,
   "metadata": {},
   "outputs": [],
   "source": [
    "# Renaming column name \"What is your current occupationA free copy of Mastering The Interview\" to \"Current_occupation\" \n",
    "lead_score.rename(columns={'What is your current occupation': 'Current_occupation'}, inplace=True)"
   ]
  },
  {
   "cell_type": "code",
   "execution_count": null,
   "metadata": {},
   "outputs": [],
   "source": [
    "lead_score.head()"
   ]
  },
  {
   "cell_type": "code",
   "execution_count": null,
   "metadata": {},
   "outputs": [],
   "source": [
    "lead_score['Do Not Email'].value_counts()"
   ]
  },
  {
   "cell_type": "markdown",
   "metadata": {},
   "source": [
    "##### <b>*OBSERVATION*<b>:\n",
    "- The `Do Not Email` is a Binary Column which has two values, so lets replace them with 0 and 1."
   ]
  },
  {
   "cell_type": "code",
   "execution_count": 57,
   "metadata": {},
   "outputs": [],
   "source": [
    "lead_score['Do Not Email'] = lead_score['Do Not Email'].apply(lambda x: 1 if x =='Yes' else 0)"
   ]
  },
  {
   "cell_type": "code",
   "execution_count": null,
   "metadata": {},
   "outputs": [],
   "source": [
    "lead_score['Do Not Email'].value_counts()"
   ]
  },
  {
   "cell_type": "code",
   "execution_count": null,
   "metadata": {},
   "outputs": [],
   "source": [
    "lead_score['Free_copy'].value_counts()"
   ]
  },
  {
   "cell_type": "markdown",
   "metadata": {},
   "source": [
    "##### <b>*OBSERVATION*<b>:\n",
    "- The `Free_copy` is a Binary Column which has two values, so lets replace them with 0 and 1."
   ]
  },
  {
   "cell_type": "code",
   "execution_count": 60,
   "metadata": {},
   "outputs": [],
   "source": [
    "lead_score['Free_copy'] = lead_score['Free_copy'].apply(lambda x: 1 if x =='Yes' else 0)"
   ]
  },
  {
   "cell_type": "code",
   "execution_count": null,
   "metadata": {},
   "outputs": [],
   "source": [
    "lead_score['Free_copy'].value_counts()"
   ]
  },
  {
   "cell_type": "code",
   "execution_count": null,
   "metadata": {},
   "outputs": [],
   "source": [
    "lead_score.head()"
   ]
  },
  {
   "cell_type": "markdown",
   "metadata": {},
   "source": [
    "## Step 2: EDA"
   ]
  },
  {
   "cell_type": "markdown",
   "metadata": {},
   "source": [
    "#### Data Imbalance"
   ]
  },
  {
   "cell_type": "code",
   "execution_count": null,
   "metadata": {},
   "outputs": [],
   "source": [
    "lead_score.Converted.value_counts(normalize=True)*100"
   ]
  },
  {
   "cell_type": "code",
   "execution_count": null,
   "metadata": {},
   "outputs": [],
   "source": [
    "# Calculating Data Imbalance Ratio\n",
    "round(len(lead_score[lead_score.Converted==0]) / len(lead_score[lead_score.Converted==1]),2)"
   ]
  },
  {
   "cell_type": "code",
   "execution_count": null,
   "metadata": {},
   "outputs": [],
   "source": [
    "# Checking what % of Leads are Converted \n",
    "plt.figure(figsize=(8,4))\n",
    "labels = [\"Not Converted\" ,\"Converted\"]\n",
    "explode = (0, 0.1)\n",
    "plt.title('Data imbalance- Pie Chart',fontdict={'fontsize':20})\n",
    "plt.pie(lead_score.Converted.value_counts(), explode=explode, colors='rg', labels=labels, autopct='%1.1f%%',shadow=True, startangle=180)\n",
    "plt.show()"
   ]
  },
  {
   "cell_type": "markdown",
   "metadata": {},
   "source": [
    "##### <b>*OBSERVATION*<b>:\n",
    "- The conversion rate is 38.5%, meaning only 38.5% of people converted to leads (minority), while 61.5% did not convert (majority). This indicates a class imbalance in the data."
   ]
  },
  {
   "cell_type": "markdown",
   "metadata": {},
   "source": [
    "### Univariate Analysis"
   ]
  },
  {
   "cell_type": "markdown",
   "metadata": {},
   "source": [
    "##### Categorical columns"
   ]
  },
  {
   "cell_type": "code",
   "execution_count": 66,
   "metadata": {},
   "outputs": [],
   "source": [
    "# A plot function to analyze the categorical columns\n",
    "def plot_function_categorical(df,col):\n",
    "    fig = plt.figure(figsize=(15,10))\n",
    "    ax1 = plt.subplot(221)\n",
    "    df[col].value_counts().plot.pie(autopct = \"%1.0f%%\" , ax = ax1,colors=['lightblue', 'salmon','green','red','yellow'])\n",
    "    plt.title(\"Pie chart for \" + col)\n",
    "    ax2 = plt.subplot(222)\n",
    "    plot_df=pd.DataFrame()\n",
    "    non_default_df = df[df['Converted']==0]\n",
    "    default_df =  df[df['Converted']==1]\n",
    "    plot_df['0'] = ((non_default_df[col].value_counts())/len(non_default_df))\n",
    "    plot_df['1'] = ((default_df[col].value_counts())/len(default_df))\n",
    "    plot_df.plot.bar(ax=ax2,color=['lightblue','salmon'])\n",
    "    plt.title(\"Plotting data in terms of percentage\")\n",
    "    ax3 = plt.subplot(223)\n",
    "    sns.countplot(x=col,hue='Converted',data=df,ax=ax3,palette={0: 'lightblue', 1: 'salmon'})\n",
    "    plt.xticks(rotation=90)\n",
    "    plt.title(\"Countplot for \" + col)\n",
    "    ax4 = plt.subplot(224)\n",
    "    stack_df = df[[col,'Converted',]].value_counts().unstack()\n",
    "    stack_df['SUM'] = stack_df.sum(axis=1)\n",
    "    stack_df['0'] = ((stack_df[0] / stack_df['SUM']) * 100).fillna(0)\n",
    "    stack_df['1'] = ((stack_df[1] / stack_df['SUM']) * 100).fillna(0)\n",
    "    ax4.bar(stack_df.index, stack_df['0'], label='0', color='lightblue')\n",
    "    ax4.bar(stack_df.index, stack_df['1'], bottom=stack_df['0'], label='1', color='salmon')\n",
    "    for index, row in stack_df.iterrows():\n",
    "        ax4.text(index, row['0'] / 2, f\"{row['0']:.1f}%\", ha='center',  va='center', rotation=90)\n",
    "        ax4.text(index, row['0'] + row['1'] / 2, f\"{row['1']:.1f}%\", ha='center',  va='center', rotation=90)\n",
    "    ax4.set_ylabel('Percentage (%)')\n",
    "    ax4.set_title('Stacked Bar Chart ')\n",
    "    ax4.legend(title='Target')\n",
    "    plt.xticks(rotation=90)\n",
    "    plt.title(\"Stacked Bar Chart for \" + col)\n",
    "    fig.tight_layout()\n",
    "    plt.show()"
   ]
  },
  {
   "cell_type": "code",
   "execution_count": 67,
   "metadata": {},
   "outputs": [],
   "source": [
    "cat_cols = ['Lead Origin','Lead Source','Last Activity','Country','Specialization','Current_occupation',\n",
    "            'Last Notable Activity','Do Not Email','Free_copy']"
   ]
  },
  {
   "cell_type": "code",
   "execution_count": null,
   "metadata": {},
   "outputs": [],
   "source": [
    "for col in cat_cols:\n",
    "    centered_text = f\" ------------------ PLOT FOR {col} ------------------ \".center(150)\n",
    "    print(centered_text)\n",
    "    plot_function_categorical(lead_score,col)"
   ]
  },
  {
   "cell_type": "markdown",
   "metadata": {},
   "source": [
    "##### <b>*Observations & Insights from Categorical Analysis*<b>:\n",
    "\n",
    "- Lead Origin: \"Landing Page Submission\" identified 53% of customers, while \"API\" identified 39%.\n",
    "- Lead Source: 58% of leads come from Google & Direct Traffic combined.\n",
    "- Last Activity: 68% of customer interactions are from SMS Sent & Email Opened activities.\n",
    "- Current Occupation: 90% of customers are Unemployed.\n",
    "- Do Not Email: 92% of people opted not to receive emails about the course."
   ]
  },
  {
   "cell_type": "markdown",
   "metadata": {},
   "source": [
    "##### Numerical columns"
   ]
  },
  {
   "cell_type": "code",
   "execution_count": 69,
   "metadata": {},
   "outputs": [],
   "source": [
    "# A plot function to analyze the numerical columns\n",
    "def plot_function_numerical(df,col):\n",
    "    fig = plt.figure(figsize=(15,8))\n",
    "    ax1 = plt.subplot(221)\n",
    "    sns.boxplot(data=df, x='Converted', y=col,ax = ax1,color='salmon')\n",
    "    # sns.boxplot(x=col,data=df,hue=df['Converted'],ax=ax1)\n",
    "    plt.title(\"Box Plot for \" + col)\n",
    "    ax2 = plt.subplot(222)\n",
    "    sns.histplot(df[col],bins=30,ax=ax2)\n",
    "    plt.title(\"Hist Plot for \" + col)\n",
    "    ax3 = plt.subplot(223)\n",
    "    sns.histplot(data=df[df['Converted']==0],kde=True,x=col,ax=ax3)\n",
    "    plt.title(col + \" for Converted Leads\")\n",
    "    ax4 = plt.subplot(224)\n",
    "    sns.histplot(data=df[df['Converted']==1],kde=True,x=col,ax=ax4)\n",
    "    plt.title(col + \" for Not Converted Leads\")\n",
    "    fig.tight_layout()\n",
    "    plt.show()"
   ]
  },
  {
   "cell_type": "code",
   "execution_count": 70,
   "metadata": {},
   "outputs": [],
   "source": [
    "numeric_cols = ['TotalVisits','Total Time Spent on Website','Page Views Per Visit']"
   ]
  },
  {
   "cell_type": "code",
   "execution_count": null,
   "metadata": {},
   "outputs": [],
   "source": [
    "for col in numeric_cols:\n",
    "    centered_text = f\" ------------------ PLOT FOR {col} ------------------ \".center(150)\n",
    "    print(centered_text)\n",
    "    plot_function_numerical(lead_score,col)"
   ]
  },
  {
   "cell_type": "markdown",
   "metadata": {},
   "source": [
    "##### <b>*Observations & Insights from Numerical Analysis*<b>:\n",
    "\n",
    "- Leads who spend more time on the website are more likely to convert into successful leads. This indicates that higher engagement correlates with a higher conversion rate."
   ]
  },
  {
   "cell_type": "markdown",
   "metadata": {},
   "source": [
    "### Bivariate Analysis"
   ]
  },
  {
   "cell_type": "markdown",
   "metadata": {},
   "source": [
    "##### Numerical columns"
   ]
  },
  {
   "cell_type": "code",
   "execution_count": null,
   "metadata": {},
   "outputs": [],
   "source": [
    "sns.pairplot(lead_score,vars=numeric_cols,hue=\"Converted\",palette={0: 'lightblue', 1: 'salmon'})\n",
    "plt.show()"
   ]
  },
  {
   "cell_type": "code",
   "execution_count": null,
   "metadata": {},
   "outputs": [],
   "source": [
    "numeric_cols"
   ]
  },
  {
   "cell_type": "code",
   "execution_count": null,
   "metadata": {},
   "outputs": [],
   "source": [
    "# Heatmap to show correlation between numerical variables\n",
    "sns.heatmap(data=lead_score[['Converted','TotalVisits', 'Total Time Spent on Website', 'Page Views Per Visit']].corr(),cmap=\"Greens\",annot=True)\n",
    "plt.show()\n"
   ]
  },
  {
   "cell_type": "markdown",
   "metadata": {},
   "source": [
    "## Step 3: Data Preparation"
   ]
  },
  {
   "cell_type": "markdown",
   "metadata": {},
   "source": []
  },
  {
   "cell_type": "code",
   "execution_count": null,
   "metadata": {},
   "outputs": [],
   "source": []
  },
  {
   "cell_type": "code",
   "execution_count": null,
   "metadata": {},
   "outputs": [],
   "source": []
  },
  {
   "cell_type": "code",
   "execution_count": null,
   "metadata": {},
   "outputs": [],
   "source": []
  },
  {
   "cell_type": "markdown",
   "metadata": {},
   "source": [
    "## Step 4: Splitting the Data into Training and Testing Sets\n",
    "\n",
    "As you know, the first basic step for regression is performing a train-test split."
   ]
  },
  {
   "cell_type": "markdown",
   "metadata": {},
   "source": []
  },
  {
   "cell_type": "code",
   "execution_count": null,
   "metadata": {},
   "outputs": [],
   "source": []
  },
  {
   "cell_type": "code",
   "execution_count": null,
   "metadata": {},
   "outputs": [],
   "source": []
  },
  {
   "cell_type": "code",
   "execution_count": null,
   "metadata": {},
   "outputs": [],
   "source": []
  },
  {
   "cell_type": "code",
   "execution_count": null,
   "metadata": {},
   "outputs": [],
   "source": []
  },
  {
   "cell_type": "markdown",
   "metadata": {},
   "source": [
    "## Step 5: Building a logistic model\n"
   ]
  },
  {
   "cell_type": "markdown",
   "metadata": {},
   "source": [
    "#### Model 1"
   ]
  },
  {
   "cell_type": "code",
   "execution_count": null,
   "metadata": {},
   "outputs": [],
   "source": []
  },
  {
   "cell_type": "code",
   "execution_count": null,
   "metadata": {},
   "outputs": [],
   "source": []
  },
  {
   "cell_type": "code",
   "execution_count": null,
   "metadata": {},
   "outputs": [],
   "source": []
  },
  {
   "cell_type": "code",
   "execution_count": null,
   "metadata": {},
   "outputs": [],
   "source": []
  },
  {
   "cell_type": "markdown",
   "metadata": {},
   "source": [
    "## Step 6: Residual Analysis of the train data"
   ]
  },
  {
   "cell_type": "code",
   "execution_count": null,
   "metadata": {},
   "outputs": [],
   "source": []
  },
  {
   "cell_type": "code",
   "execution_count": null,
   "metadata": {},
   "outputs": [],
   "source": []
  },
  {
   "cell_type": "code",
   "execution_count": null,
   "metadata": {},
   "outputs": [],
   "source": []
  },
  {
   "cell_type": "code",
   "execution_count": null,
   "metadata": {},
   "outputs": [],
   "source": []
  },
  {
   "cell_type": "markdown",
   "metadata": {},
   "source": [
    "## Step 7: Making Predictions Using the Final Model"
   ]
  },
  {
   "cell_type": "code",
   "execution_count": null,
   "metadata": {},
   "outputs": [],
   "source": []
  },
  {
   "cell_type": "code",
   "execution_count": null,
   "metadata": {},
   "outputs": [],
   "source": []
  },
  {
   "cell_type": "code",
   "execution_count": null,
   "metadata": {},
   "outputs": [],
   "source": []
  },
  {
   "cell_type": "code",
   "execution_count": null,
   "metadata": {},
   "outputs": [],
   "source": []
  },
  {
   "cell_type": "markdown",
   "metadata": {},
   "source": [
    "## Step 8: Model Evaluation"
   ]
  },
  {
   "cell_type": "markdown",
   "metadata": {},
   "source": []
  }
 ],
 "metadata": {
  "kernelspec": {
   "display_name": "base",
   "language": "python",
   "name": "python3"
  },
  "language_info": {
   "codemirror_mode": {
    "name": "ipython",
    "version": 3
   },
   "file_extension": ".py",
   "mimetype": "text/x-python",
   "name": "python",
   "nbconvert_exporter": "python",
   "pygments_lexer": "ipython3",
   "version": "3.12.4"
  }
 },
 "nbformat": 4,
 "nbformat_minor": 2
}
